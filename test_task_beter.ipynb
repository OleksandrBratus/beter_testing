{
  "nbformat": 4,
  "nbformat_minor": 0,
  "metadata": {
    "colab": {
      "provenance": [],
      "collapsed_sections": [],
      "toc_visible": true
    },
    "kernelspec": {
      "name": "python3",
      "display_name": "Python 3"
    },
    "language_info": {
      "name": "python"
    }
  },
  "cells": [
    {
      "cell_type": "code",
      "metadata": {
        "id": "edrVDQETdcJt"
      },
      "source": [
        "import sys\n",
        "import random\n",
        "import time\n",
        "import numpy as np\n",
        "import pandas as pd"
      ],
      "execution_count": 1,
      "outputs": []
    },
    {
      "cell_type": "markdown",
      "metadata": {
        "id": "FLxhyxVrJ6bp"
      },
      "source": [
        "# **Task 1**"
      ]
    },
    {
      "cell_type": "markdown",
      "metadata": {
        "id": "h97XTVwiAknU"
      },
      "source": [
        "Задамо тестову пару значень p1 та p2, аби порівнювати між собою результати трьох алгоритмів."
      ]
    },
    {
      "cell_type": "code",
      "metadata": {
        "id": "06EjQH4KKWyi"
      },
      "source": [
        "p1=0.65\n",
        "p2=0.3"
      ],
      "execution_count": 2,
      "outputs": []
    },
    {
      "cell_type": "markdown",
      "metadata": {
        "id": "WauWGgfbkkOu"
      },
      "source": [
        "## Monte-Carlo method"
      ]
    },
    {
      "cell_type": "markdown",
      "metadata": {
        "id": "xwY8YfzUA21n"
      },
      "source": [
        "Для даного алгоритму треба прописати симуляцію однієї партії в теніс.\\\n",
        "Просимулювавши величезну кількість партій ми очікуємо, що емпіричні ймовірності наближено дорівнюють теоретичним.\n",
        "\n",
        "На кожній подачі важливо знати, хто подає (цикл подач - 4, тобто по дві від кожного гравця)."
      ]
    },
    {
      "cell_type": "code",
      "metadata": {
        "id": "OpY5q1miq7gl"
      },
      "source": [
        "def end_of_game(score):\n",
        "    return score[0]==11 or score[1]==11 or (score[0]==10 and score[1]==10)\n",
        "\n",
        "def run_simulation(p1, p2):\n",
        "    i = 0\n",
        "    score = [0, 0]\n",
        "    while not end_of_game(score):\n",
        "        if i%4<2:\n",
        "            if p1>random.uniform(0, 1):\n",
        "                score[0] += 1\n",
        "            else:\n",
        "                score[1] += 1\n",
        "        else:\n",
        "            if p2>random.uniform(0, 1):\n",
        "                score[0] += 1\n",
        "            else:\n",
        "                score[1] += 1\n",
        "        i += 1\n",
        "    return tuple(score)\n",
        "\n",
        "def monte_carlo(p1, p2, n_simulations=100000):\n",
        "    start = time.time()\n",
        "    dict_scores = dict()\n",
        "    for score in [(i, 11) for i in range(10)]+[(10, 10)]+[(11, i) for i in range(10)]:\n",
        "        dict_scores[score] = 0\n",
        "    for i in range(n_simulations):\n",
        "        sc = run_simulation(p1, p2)\n",
        "        dict_scores[sc] += 1\n",
        "    return sys.getsizeof(dict_scores), time.time()-start, dict(zip(dict_scores.keys(), np.array(list(dict_scores.values()))/n_simulations))"
      ],
      "execution_count": 3,
      "outputs": []
    },
    {
      "cell_type": "code",
      "metadata": {
        "id": "mot5Q5fQkt1x",
        "colab": {
          "base_uri": "https://localhost:8080/"
        },
        "outputId": "b924e8d0-a47f-4723-bca4-0fb7b88cf345"
      },
      "source": [
        "memory, seconds, probs = monte_carlo(p1, p2)\n",
        "print(\"Monte-Carlo method\")\n",
        "print(f\"Memory usage: {memory} bytes\")\n",
        "print(f\"Time usage:   {seconds:.2f} sec\")\n",
        "probs"
      ],
      "execution_count": 4,
      "outputs": [
        {
          "output_type": "stream",
          "name": "stdout",
          "text": [
            "Monte-Carlo method\n",
            "Memory usage: 656 bytes\n",
            "Time usage:   1.55 sec\n"
          ]
        },
        {
          "output_type": "execute_result",
          "data": {
            "text/plain": [
              "{(0, 11): 0.00027,\n",
              " (1, 11): 0.00293,\n",
              " (2, 11): 0.00625,\n",
              " (3, 11): 0.01187,\n",
              " (4, 11): 0.03803,\n",
              " (5, 11): 0.07057,\n",
              " (6, 11): 0.05126,\n",
              " (7, 11): 0.05803,\n",
              " (8, 11): 0.12707,\n",
              " (9, 11): 0.13474,\n",
              " (10, 10): 0.1832,\n",
              " (11, 0): 0.00015,\n",
              " (11, 1): 0.00077,\n",
              " (11, 2): 0.00493,\n",
              " (11, 3): 0.01559,\n",
              " (11, 4): 0.01621,\n",
              " (11, 5): 0.02233,\n",
              " (11, 6): 0.0602,\n",
              " (11, 7): 0.0892,\n",
              " (11, 8): 0.05182,\n",
              " (11, 9): 0.05458}"
            ]
          },
          "metadata": {},
          "execution_count": 4
        }
      ]
    },
    {
      "cell_type": "markdown",
      "metadata": {
        "id": "HhgPSdWSkn5K"
      },
      "source": [
        "## Tree method"
      ]
    },
    {
      "cell_type": "markdown",
      "metadata": {
        "id": "gJXnzZT3B9zn"
      },
      "source": [
        "При побудові дерева всіх можливих шляхів розвитку партії, ми для кожного проміжного кроку зберігаємо проміжний рахунок та ймовірність дійти до цього рахунку конкретною послідовністю виграшів.\n",
        "\n",
        "Вузол вважаємо листком, якщо рахунок стає кінцевим в партії, і додаємо відповідну ймовірність у фінальний словник.\n",
        "\n",
        "Отже, ми проходимо через усе дерево тільки один раз (під час його побудови)."
      ]
    },
    {
      "cell_type": "code",
      "metadata": {
        "id": "o47Dk3DDQv4g"
      },
      "source": [
        "class Node:\n",
        "    def __init__(self, score, prob, i):\n",
        "        self.score = score\n",
        "        self.prob = prob\n",
        "        self.i = i\n",
        "        self.left = None\n",
        "        self.right = None\n",
        "    \n",
        "    def end_of_game(self):\n",
        "        return self.score[0]==11 or self.score[1]==11 or (self.score[0]==10 and self.score[1]==10)\n",
        "    \n",
        "    def next_step(self, p1, p2):\n",
        "        if self.i%4<2:\n",
        "            self.left = Node((self.score[0]+1, self.score[1]), self.prob*p1, self.i+1)\n",
        "            self.right= Node((self.score[0], self.score[1]+1), self.prob*(1-p1), self.i+1)\n",
        "        else:\n",
        "            self.left = Node((self.score[0]+1, self.score[1]), self.prob*p2, self.i+1)\n",
        "            self.right= Node((self.score[0], self.score[1]+1), self.prob*(1-p2), self.i+1)\n",
        "\n",
        "\n",
        "class Tree:\n",
        "    def __init__(self, p1, p2):\n",
        "        self.root = Node((0, 0), 1, 0)\n",
        "        self.p1 = p1\n",
        "        self.p2 = p2\n",
        "        self.dict_scores = dict()\n",
        "        self.memory_usage = 0\n",
        "\n",
        "    def build(self, root):\n",
        "        if root:\n",
        "            if root.end_of_game():\n",
        "                try:\n",
        "                    self.dict_scores[root.score] += root.prob\n",
        "                except:\n",
        "                    self.dict_scores[root.score] = root.prob\n",
        "            else:\n",
        "                root.next_step(self.p1, self.p2)\n",
        "            self.memory_usage += sys.getsizeof(root)\n",
        "            self.build(root.left)\n",
        "            self.build(root.right)\n",
        "\n",
        "    def get_scores(self):\n",
        "        return self.dict_scores\n",
        "\n",
        "def tree(p1, p2):\n",
        "    start = time.time()\n",
        "    tree = Tree(p1, p2)\n",
        "    tree.build(tree.root)\n",
        "    return tree.memory_usage, time.time()-start, tree.get_scores()"
      ],
      "execution_count": 5,
      "outputs": []
    },
    {
      "cell_type": "code",
      "metadata": {
        "id": "6L_faMJWhTyM",
        "colab": {
          "base_uri": "https://localhost:8080/"
        },
        "outputId": "7e784394-21ea-478a-f800-91e818107802"
      },
      "source": [
        "memory, seconds, probs = tree(p1, p2)\n",
        "print(\"Tree method\")\n",
        "print(f\"Memory usage: {memory} bytes\")\n",
        "print(f\"Time usage:   {seconds:.2f} sec\")\n",
        "probs"
      ],
      "execution_count": 6,
      "outputs": [
        {
          "output_type": "stream",
          "name": "stdout",
          "text": [
            "Tree method\n",
            "Memory usage: 66646464 bytes\n",
            "Time usage:   9.11 sec\n"
          ]
        },
        {
          "output_type": "execute_result",
          "data": {
            "text/plain": [
              "{(11, 0): 0.00018326790421875,\n",
              " (11, 1): 0.0008190665565468748,\n",
              " (11, 2): 0.004690389570201557,\n",
              " (11, 3): 0.01515941430905176,\n",
              " (11, 4): 0.01623989735202245,\n",
              " (11, 5): 0.02222224816761459,\n",
              " (11, 6): 0.06144065673641841,\n",
              " (11, 7): 0.08920710980220121,\n",
              " (11, 8): 0.051454278847830354,\n",
              " (11, 9): 0.05387497301495137,\n",
              " (10, 10): 0.18356375847164116,\n",
              " (9, 11): 0.13499613890964157,\n",
              " (8, 11): 0.12591605071778864,\n",
              " (7, 11): 0.05860898046776838,\n",
              " (6, 11): 0.052224402860902776,\n",
              " (5, 11): 0.0701347051751836,\n",
              " (4, 11): 0.03792482569736893,\n",
              " (3, 11): 0.011864114936651734,\n",
              " (2, 11): 0.006293460274204677,\n",
              " (1, 11): 0.0028733029234218727,\n",
              " (0, 11): 0.0003089573035937498}"
            ]
          },
          "metadata": {},
          "execution_count": 6
        }
      ]
    },
    {
      "cell_type": "markdown",
      "metadata": {
        "id": "bERnEpTjkurY"
      },
      "source": [
        "## Markov process"
      ]
    },
    {
      "cell_type": "markdown",
      "metadata": {
        "id": "TOoxb5SyCn76"
      },
      "source": [
        "Стани - всі можливі проміжні рахунки в партії. Всього їх 141 стан.\\\n",
        "Термінальні стани - кінцеві рахунки.\n",
        "\n",
        "Початковий стан - рахунок (0, 0).\n",
        "\n",
        "Матрицю переходів підносимо до 20 степені, бо партія гарантовано закінчується за <= 20 подач."
      ]
    },
    {
      "cell_type": "code",
      "metadata": {
        "id": "gWZkKOI7iveV"
      },
      "source": [
        "def score_to_pos(score):\n",
        "    if score[0]<=10:\n",
        "        return score[0]*12 + score[1]\n",
        "    else:\n",
        "        return 131 + score[1]\n",
        "\n",
        "def get_transition_matrix(p1, p2):\n",
        "    transition_matrix = np.zeros((141, 141))\n",
        "\n",
        "    for i in range(11):\n",
        "        for j in range(11):\n",
        "            pos = score_to_pos([i, j])\n",
        "            if i+j==20 or i==11 or j==11:\n",
        "                transition_matrix[pos, pos] = 1\n",
        "            elif (i+j)%4<2:\n",
        "                transition_matrix[pos, score_to_pos([i+1, j])] = p1\n",
        "                transition_matrix[pos, score_to_pos([i, j+1])] = 1-p1\n",
        "            else:\n",
        "                transition_matrix[pos, score_to_pos([i+1, j])] = p2\n",
        "                transition_matrix[pos, score_to_pos([i, j+1])] = 1-p2\n",
        "\n",
        "    for i in range(10):\n",
        "        pos = score_to_pos([i, 11])\n",
        "        transition_matrix[pos, pos] = 1\n",
        "        pos = score_to_pos([11, i])\n",
        "        transition_matrix[pos, pos] = 1\n",
        "\n",
        "    return transition_matrix\n",
        "\n",
        "def markov_process(p1, p2):\n",
        "    start = time.time()\n",
        "    transition_matrix = get_transition_matrix(p1, p2)\n",
        "    init_states = np.zeros((1, 141))\n",
        "    init_states[0, 0] = 1\n",
        "    prob_matrix = np.dot(init_states, np.linalg.matrix_power(transition_matrix, 20))\n",
        "    return (sys.getsizeof(transition_matrix)+sys.getsizeof(init_states)+sys.getsizeof(prob_matrix),\n",
        "            time.time()-start,\n",
        "            dict(zip([(i, 11) for i in range(10)]+[(10, 10)]+[(11, i) for i in range(10)],\n",
        "                     [prob_matrix[0, score_to_pos([i, 11])] for i in range(10)]+[prob_matrix[0, score_to_pos([10, 10])]]+[prob_matrix[0, score_to_pos([11, i])] for i in range(10)])))"
      ],
      "execution_count": 7,
      "outputs": []
    },
    {
      "cell_type": "code",
      "metadata": {
        "colab": {
          "base_uri": "https://localhost:8080/"
        },
        "id": "0y4Z5J4Puyon",
        "outputId": "f94a1fe7-079d-401e-93cb-6ee622738dc0"
      },
      "source": [
        "memory, seconds, probs = markov_process(p1, p2)\n",
        "print(\"Markov process method\")\n",
        "print(f\"Memory usage: {memory} bytes\")\n",
        "print(f\"Time usage:   {seconds:.4f} sec\")\n",
        "probs"
      ],
      "execution_count": 8,
      "outputs": [
        {
          "output_type": "stream",
          "name": "stdout",
          "text": [
            "Markov process method\n",
            "Memory usage: 161664 bytes\n",
            "Time usage:   0.0079 sec\n"
          ]
        },
        {
          "output_type": "execute_result",
          "data": {
            "text/plain": [
              "{(0, 11): 0.0003089573035937497,\n",
              " (1, 11): 0.0028733029234218727,\n",
              " (2, 11): 0.006293460274204682,\n",
              " (3, 11): 0.011864114936651788,\n",
              " (4, 11): 0.037924825697368963,\n",
              " (5, 11): 0.07013470517518669,\n",
              " (6, 11): 0.05222440286091093,\n",
              " (7, 11): 0.058608980467790575,\n",
              " (8, 11): 0.1259160507177725,\n",
              " (9, 11): 0.13499613890975012,\n",
              " (10, 10): 0.1835637584723195,\n",
              " (11, 0): 0.00018326790421875004,\n",
              " (11, 1): 0.0008190665565468752,\n",
              " (11, 2): 0.004690389570201564,\n",
              " (11, 3): 0.015159414309051801,\n",
              " (11, 4): 0.01623989735202245,\n",
              " (11, 5): 0.02222224816761655,\n",
              " (11, 6): 0.061440656736406994,\n",
              " (11, 7): 0.08920710980219736,\n",
              " (11, 8): 0.051454278847848214,\n",
              " (11, 9): 0.05387497301491754}"
            ]
          },
          "metadata": {},
          "execution_count": 8
        }
      ]
    },
    {
      "cell_type": "markdown",
      "metadata": {
        "id": "21eUTxDYVtZC"
      },
      "source": [
        "## Comparison"
      ]
    },
    {
      "cell_type": "markdown",
      "metadata": {
        "id": "mj5sDLaBDH-D"
      },
      "source": [
        "Для порівняння використовуємо такі показники:\n",
        "- точність отриманих ймовірностей\n",
        "- час роботи алгоритму\n",
        "- кількість використаної пам'яті"
      ]
    },
    {
      "cell_type": "code",
      "metadata": {
        "id": "hg0ZYgoHWJCf"
      },
      "source": [
        "def relative_error(true, est):\n",
        "    return np.array([abs(true[key]-est[key])/true[key] for key in true.keys()]).mean()"
      ],
      "execution_count": 9,
      "outputs": []
    },
    {
      "cell_type": "code",
      "metadata": {
        "colab": {
          "base_uri": "https://localhost:8080/"
        },
        "id": "JGzHuKJRhWn6",
        "outputId": "467de920-5f90-4d39-f8a2-075bd3b585dc"
      },
      "source": [
        "print(f\"Tree vs. Markov process: {relative_error(tree(p1, p2)[2], markov_process(p1, p2)[2])}\")"
      ],
      "execution_count": 10,
      "outputs": [
        {
          "output_type": "stream",
          "name": "stdout",
          "text": [
            "Tree vs. Markov process: 3.1002320845635384e-13\n"
          ]
        }
      ]
    },
    {
      "cell_type": "markdown",
      "metadata": {
        "id": "iaVzLY-9Di__"
      },
      "source": [
        "Методи побудови дерева та марківського процесу дають теоретичні ймовірності. Тому вони завжди точні.\\\n",
        "Метод Монте-Карло дає наближені ймовірності. Тому там завжди буде похибка."
      ]
    },
    {
      "cell_type": "code",
      "metadata": {
        "colab": {
          "base_uri": "https://localhost:8080/"
        },
        "id": "cHLQwCy0XfR9",
        "outputId": "8f4d71b9-b1c2-42e7-f169-2e7199b6c84e"
      },
      "source": [
        "for n in [100000, 1000000, 10000000]:\n",
        "    print(f\"Tree vs. Monte-Carlo(n_simulations={n}): {relative_error(tree(p1, p2)[2], monte_carlo(p1, p2, n)[2]):.4f}\")"
      ],
      "execution_count": 11,
      "outputs": [
        {
          "output_type": "stream",
          "name": "stdout",
          "text": [
            "Tree vs. Monte-Carlo(n_simulations=100000): 0.0473\n",
            "Tree vs. Monte-Carlo(n_simulations=1000000): 0.0077\n",
            "Tree vs. Monte-Carlo(n_simulations=10000000): 0.0037\n"
          ]
        }
      ]
    },
    {
      "cell_type": "markdown",
      "metadata": {
        "id": "TuhpImy2DmOD"
      },
      "source": [
        "Як бачимо, для методу Монте-Карло важлива кількість симуляцій.\\\n",
        "Збільшення кількості симуляцій на порядок покращує точність."
      ]
    },
    {
      "cell_type": "code",
      "metadata": {
        "id": "GlUunZ38V8pP"
      },
      "source": [
        "mc_results = []\n",
        "tr_results = []\n",
        "mp_results = []\n",
        "for p1 in np.arange(0.1, 1, 0.1):\n",
        "    for p2 in np.arange(0.1, 1, 0.1):\n",
        "        mc = monte_carlo(p1, p2)\n",
        "        tr = tree(p1, p2)\n",
        "        mp = markov_process(p1, p2)\n",
        "        mc_results.append((relative_error(tr[2], mc[2]), mc[0], mc[1]))\n",
        "        tr_results.append((relative_error(tr[2], mp[2]), tr[0], tr[1]))\n",
        "        mp_results.append((relative_error(tr[2], mp[2]), mp[0], mp[1]))"
      ],
      "execution_count": 12,
      "outputs": []
    },
    {
      "cell_type": "code",
      "source": [
        "mc_results"
      ],
      "metadata": {
        "colab": {
          "base_uri": "https://localhost:8080/"
        },
        "id": "gtu40EthzRhy",
        "outputId": "3dfb950c-c126-4947-afa6-833d02988d97"
      },
      "execution_count": 13,
      "outputs": [
        {
          "output_type": "execute_result",
          "data": {
            "text/plain": [
              "[(0.5659837530926597, 656, 1.0855991840362549),\n",
              " (0.4571819141226848, 656, 1.1845979690551758),\n",
              " (0.33178701476776046, 656, 1.2321419715881348),\n",
              " (0.2708512059000543, 656, 1.2923378944396973),\n",
              " (0.25293674987012865, 656, 1.3659846782684326),\n",
              " (0.22060365336621995, 656, 1.4418628215789795),\n",
              " (0.14670805520514554, 656, 1.5411021709442139),\n",
              " (0.10863582983423142, 656, 1.6258089542388916),\n",
              " (0.2514917877461847, 656, 1.6447162628173828),\n",
              " (0.4122135757824673, 656, 1.2017507553100586),\n",
              " (0.5452399651837807, 656, 1.2467365264892578),\n",
              " (0.2727117342708115, 656, 1.317286729812622),\n",
              " (0.1216361293295323, 656, 1.3963825702667236),\n",
              " (0.08303163907577604, 656, 1.4743928909301758),\n",
              " (0.0785544712726892, 656, 1.5189480781555176),\n",
              " (0.04128963449186162, 656, 1.5939643383026123),\n",
              " (0.06400428322540741, 656, 1.6447856426239014),\n",
              " (0.13743577711853613, 656, 1.665649652481079),\n",
              " (0.3252260039739112, 656, 1.2431929111480713),\n",
              " (0.36363584279297795, 656, 1.3348228931427002),\n",
              " (0.09604187447813928, 656, 1.3933513164520264),\n",
              " (0.08016121238242754, 656, 1.4703752994537354),\n",
              " (0.05523286826403795, 656, 1.5387542247772217),\n",
              " (0.04699605732646336, 656, 1.5797481536865234),\n",
              " (0.027163451456672056, 656, 1.64870023727417),\n",
              " (0.041626053422138466, 656, 1.6248233318328857),\n",
              " (0.10130467775105569, 656, 1.6095783710479736),\n",
              " (0.20373199840761996, 656, 1.3419723510742188),\n",
              " (0.4101560737414913, 656, 1.4151580333709717),\n",
              " (0.09044154560169056, 656, 1.4937288761138916),\n",
              " (0.034813556217415983, 656, 1.5586519241333008),\n",
              " (0.039069847325169216, 656, 1.5796129703521729),\n",
              " (0.04037229067071579, 656, 1.610656499862671),\n",
              " (0.055389870237122295, 656, 1.5996959209442139),\n",
              " (0.07605222523920832, 656, 1.580270528793335),\n",
              " (0.143533252199131, 656, 1.4962711334228516),\n",
              " (0.19225830032464247, 656, 1.3974616527557373),\n",
              " (0.11475396414648262, 656, 1.4751865863800049),\n",
              " (0.05259888483695531, 656, 1.5542564392089844),\n",
              " (0.03458924655207644, 656, 1.6010363101959229),\n",
              " (0.021216376130626456, 656, 1.5955660343170166),\n",
              " (0.04847567862999968, 656, 1.5910000801086426),\n",
              " (0.05206004909120164, 656, 1.5467405319213867),\n",
              " (0.12329726028202674, 656, 1.4766325950622559),\n",
              " (0.15967977973848882, 656, 1.4153530597686768),\n",
              " (0.16601743513255704, 656, 1.5031185150146484),\n",
              " (0.04791975345887443, 656, 1.5656757354736328),\n",
              " (0.02633038777661103, 656, 1.573282241821289),\n",
              " (0.02716837650160466, 656, 1.6190416812896729),\n",
              " (0.02295239751109785, 656, 1.598653793334961),\n",
              " (0.04397564358461471, 656, 1.543555498123169),\n",
              " (0.0932652226853466, 656, 1.4773616790771484),\n",
              " (0.11908753454100063, 656, 1.4137256145477295),\n",
              " (0.27670117131875915, 656, 1.3301405906677246),\n",
              " (0.10924644926362878, 656, 1.6032509803771973),\n",
              " (0.045944343854374084, 656, 1.633366584777832),\n",
              " (0.042061156342982166, 656, 1.6154582500457764),\n",
              " (0.03515489141757818, 656, 1.5745882987976074),\n",
              " (0.05522625629851037, 656, 1.544191598892212),\n",
              " (0.09015478190802838, 656, 1.463210105895996),\n",
              " (0.096534411154607, 656, 1.3726744651794434),\n",
              " (0.20242408766697068, 656, 1.332446813583374),\n",
              " (0.492568020719261, 656, 1.2618753910064697),\n",
              " (0.21240327962057487, 656, 1.6198790073394775),\n",
              " (0.08748865818681872, 656, 1.5927140712738037),\n",
              " (0.051853139466471396, 656, 1.5748586654663086),\n",
              " (0.09071973178425283, 656, 1.5146803855895996),\n",
              " (0.12435352524886836, 656, 1.4608607292175293),\n",
              " (0.2714604219161683, 656, 1.4064536094665527),\n",
              " (0.19813145659835335, 656, 1.3150360584259033),\n",
              " (0.2883660250716511, 656, 1.2789106369018555),\n",
              " (0.6059758882774304, 656, 1.1851189136505127),\n",
              " (0.16440689523632626, 656, 1.6858229637145996),\n",
              " (0.14293774031928455, 656, 1.619476556777954),\n",
              " (0.19093798331487055, 656, 1.5278899669647217),\n",
              " (0.30462645164361773, 656, 1.4568898677825928),\n",
              " (0.2237992726236513, 656, 1.382089614868164),\n",
              " (0.2644550945080283, 656, 1.3088233470916748),\n",
              " (0.6798143168322355, 656, 1.24235200881958),\n",
              " (0.5760223204011735, 656, 1.19608473777771),\n",
              " (1.8485265106670516, 656, 1.1301002502441406)]"
            ]
          },
          "metadata": {},
          "execution_count": 13
        }
      ]
    },
    {
      "cell_type": "code",
      "metadata": {
        "id": "WH1VWlfHXIsR",
        "colab": {
          "base_uri": "https://localhost:8080/",
          "height": 143
        },
        "outputId": "98e41eaf-db8f-47c4-8792-577750855ede"
      },
      "source": [
        "pd.options.display.float_format = '{:.3f}'.format\n",
        "comparison_table = pd.DataFrame(columns=['Relative error', 'Memory (bytes)', 'Time (sec)'])\n",
        "comparison_table.loc['Monte-Carlo'] = np.array([np.mean(np.array(i)) for i in zip(mc_results[0])])\n",
        "comparison_table.loc['Tree'] = np.array([np.mean(np.array(i)) for i in zip(tr_results[0])])\n",
        "comparison_table.loc['Markov process'] = np.array([np.mean(np.array(i)) for i in zip(mp_results[0])])\n",
        "comparison_table"
      ],
      "execution_count": 14,
      "outputs": [
        {
          "output_type": "execute_result",
          "data": {
            "text/plain": [
              "                Relative error  Memory (bytes)  Time (sec)\n",
              "Monte-Carlo              0.566         656.000       1.086\n",
              "Tree                     0.000    66646464.000       5.976\n",
              "Markov process           0.000      161664.000       0.002"
            ],
            "text/html": [
              "\n",
              "  <div id=\"df-c08f33bf-58d4-4099-bedd-950fd0466fde\">\n",
              "    <div class=\"colab-df-container\">\n",
              "      <div>\n",
              "<style scoped>\n",
              "    .dataframe tbody tr th:only-of-type {\n",
              "        vertical-align: middle;\n",
              "    }\n",
              "\n",
              "    .dataframe tbody tr th {\n",
              "        vertical-align: top;\n",
              "    }\n",
              "\n",
              "    .dataframe thead th {\n",
              "        text-align: right;\n",
              "    }\n",
              "</style>\n",
              "<table border=\"1\" class=\"dataframe\">\n",
              "  <thead>\n",
              "    <tr style=\"text-align: right;\">\n",
              "      <th></th>\n",
              "      <th>Relative error</th>\n",
              "      <th>Memory (bytes)</th>\n",
              "      <th>Time (sec)</th>\n",
              "    </tr>\n",
              "  </thead>\n",
              "  <tbody>\n",
              "    <tr>\n",
              "      <th>Monte-Carlo</th>\n",
              "      <td>0.566</td>\n",
              "      <td>656.000</td>\n",
              "      <td>1.086</td>\n",
              "    </tr>\n",
              "    <tr>\n",
              "      <th>Tree</th>\n",
              "      <td>0.000</td>\n",
              "      <td>66646464.000</td>\n",
              "      <td>5.976</td>\n",
              "    </tr>\n",
              "    <tr>\n",
              "      <th>Markov process</th>\n",
              "      <td>0.000</td>\n",
              "      <td>161664.000</td>\n",
              "      <td>0.002</td>\n",
              "    </tr>\n",
              "  </tbody>\n",
              "</table>\n",
              "</div>\n",
              "      <button class=\"colab-df-convert\" onclick=\"convertToInteractive('df-c08f33bf-58d4-4099-bedd-950fd0466fde')\"\n",
              "              title=\"Convert this dataframe to an interactive table.\"\n",
              "              style=\"display:none;\">\n",
              "        \n",
              "  <svg xmlns=\"http://www.w3.org/2000/svg\" height=\"24px\"viewBox=\"0 0 24 24\"\n",
              "       width=\"24px\">\n",
              "    <path d=\"M0 0h24v24H0V0z\" fill=\"none\"/>\n",
              "    <path d=\"M18.56 5.44l.94 2.06.94-2.06 2.06-.94-2.06-.94-.94-2.06-.94 2.06-2.06.94zm-11 1L8.5 8.5l.94-2.06 2.06-.94-2.06-.94L8.5 2.5l-.94 2.06-2.06.94zm10 10l.94 2.06.94-2.06 2.06-.94-2.06-.94-.94-2.06-.94 2.06-2.06.94z\"/><path d=\"M17.41 7.96l-1.37-1.37c-.4-.4-.92-.59-1.43-.59-.52 0-1.04.2-1.43.59L10.3 9.45l-7.72 7.72c-.78.78-.78 2.05 0 2.83L4 21.41c.39.39.9.59 1.41.59.51 0 1.02-.2 1.41-.59l7.78-7.78 2.81-2.81c.8-.78.8-2.07 0-2.86zM5.41 20L4 18.59l7.72-7.72 1.47 1.35L5.41 20z\"/>\n",
              "  </svg>\n",
              "      </button>\n",
              "      \n",
              "  <style>\n",
              "    .colab-df-container {\n",
              "      display:flex;\n",
              "      flex-wrap:wrap;\n",
              "      gap: 12px;\n",
              "    }\n",
              "\n",
              "    .colab-df-convert {\n",
              "      background-color: #E8F0FE;\n",
              "      border: none;\n",
              "      border-radius: 50%;\n",
              "      cursor: pointer;\n",
              "      display: none;\n",
              "      fill: #1967D2;\n",
              "      height: 32px;\n",
              "      padding: 0 0 0 0;\n",
              "      width: 32px;\n",
              "    }\n",
              "\n",
              "    .colab-df-convert:hover {\n",
              "      background-color: #E2EBFA;\n",
              "      box-shadow: 0px 1px 2px rgba(60, 64, 67, 0.3), 0px 1px 3px 1px rgba(60, 64, 67, 0.15);\n",
              "      fill: #174EA6;\n",
              "    }\n",
              "\n",
              "    [theme=dark] .colab-df-convert {\n",
              "      background-color: #3B4455;\n",
              "      fill: #D2E3FC;\n",
              "    }\n",
              "\n",
              "    [theme=dark] .colab-df-convert:hover {\n",
              "      background-color: #434B5C;\n",
              "      box-shadow: 0px 1px 3px 1px rgba(0, 0, 0, 0.15);\n",
              "      filter: drop-shadow(0px 1px 2px rgba(0, 0, 0, 0.3));\n",
              "      fill: #FFFFFF;\n",
              "    }\n",
              "  </style>\n",
              "\n",
              "      <script>\n",
              "        const buttonEl =\n",
              "          document.querySelector('#df-c08f33bf-58d4-4099-bedd-950fd0466fde button.colab-df-convert');\n",
              "        buttonEl.style.display =\n",
              "          google.colab.kernel.accessAllowed ? 'block' : 'none';\n",
              "\n",
              "        async function convertToInteractive(key) {\n",
              "          const element = document.querySelector('#df-c08f33bf-58d4-4099-bedd-950fd0466fde');\n",
              "          const dataTable =\n",
              "            await google.colab.kernel.invokeFunction('convertToInteractive',\n",
              "                                                     [key], {});\n",
              "          if (!dataTable) return;\n",
              "\n",
              "          const docLinkHtml = 'Like what you see? Visit the ' +\n",
              "            '<a target=\"_blank\" href=https://colab.research.google.com/notebooks/data_table.ipynb>data table notebook</a>'\n",
              "            + ' to learn more about interactive tables.';\n",
              "          element.innerHTML = '';\n",
              "          dataTable['output_type'] = 'display_data';\n",
              "          await google.colab.output.renderOutput(dataTable, element);\n",
              "          const docLink = document.createElement('div');\n",
              "          docLink.innerHTML = docLinkHtml;\n",
              "          element.appendChild(docLink);\n",
              "        }\n",
              "      </script>\n",
              "    </div>\n",
              "  </div>\n",
              "  "
            ]
          },
          "metadata": {},
          "execution_count": 14
        }
      ]
    },
    {
      "cell_type": "markdown",
      "metadata": {
        "id": "_JcOARzAN1PV"
      },
      "source": [
        "# **Task 2**"
      ]
    },
    {
      "cell_type": "markdown",
      "metadata": {
        "id": "LDwQPYNMD4bX"
      },
      "source": [
        "У попередньому завданні партія гарантовано закінчувалася за <= 20 подач.\\\n",
        "У цьому завданні партія може тривати нескінченно.\\\n",
        "Тому я визначаю 20 подач для досягнення кінця гри. Інакше фіксуємо нічию.\\\n",
        "Також будемо зберігати не фінальний рахунок, а тільки переможця (1 чи 2). 0 - нічия."
      ]
    },
    {
      "cell_type": "code",
      "metadata": {
        "id": "fk0etahaOYdT"
      },
      "source": [
        "p=0.4"
      ],
      "execution_count": 15,
      "outputs": []
    },
    {
      "cell_type": "markdown",
      "metadata": {
        "id": "KLy4z7yVN_m5"
      },
      "source": [
        "## Monte-Carlo method"
      ]
    },
    {
      "cell_type": "code",
      "metadata": {
        "id": "pcdiuwqBN2Ti"
      },
      "source": [
        "def end_of_game(score):\n",
        "    return abs(score[0]-score[1])>=2\n",
        "\n",
        "def run_simulation(p):\n",
        "    i = 20\n",
        "    score = [10, 10]\n",
        "    while not end_of_game(score) and i<=40:\n",
        "        if p>random.uniform(0, 1):\n",
        "            score[0] += 1\n",
        "        else:\n",
        "            score[1] += 1\n",
        "        i += 1\n",
        "    if (score[0]-score[1])>=2:\n",
        "        return 1\n",
        "    elif (score[1]-score[0])>=2:\n",
        "        return 2\n",
        "    else:\n",
        "        return 0\n",
        "\n",
        "def monte_carlo(p, n_simulations=1000000):\n",
        "    start = time.time()\n",
        "    dict_scores = dict()\n",
        "    for score in [0, 1, 2]:\n",
        "        dict_scores[score] = 0\n",
        "    for i in range(n_simulations):\n",
        "        sc = run_simulation(p)\n",
        "        dict_scores[sc] += 1\n",
        "    return sys.getsizeof(dict_scores), time.time()-start, dict(zip(dict_scores.keys(), np.array(list(dict_scores.values()))/n_simulations))"
      ],
      "execution_count": 16,
      "outputs": []
    },
    {
      "cell_type": "code",
      "metadata": {
        "colab": {
          "base_uri": "https://localhost:8080/"
        },
        "id": "sguJ8lAdPbRc",
        "outputId": "0608e39b-fa5d-47ca-c097-efb15d826d10"
      },
      "source": [
        "memory, seconds, probs = monte_carlo(p)\n",
        "print(\"Monte-Carlo method\")\n",
        "print(f\"Memory usage: {memory} bytes\")\n",
        "print(f\"Time usage:   {seconds:.2f} sec\")\n",
        "probs"
      ],
      "execution_count": 17,
      "outputs": [
        {
          "output_type": "stream",
          "name": "stdout",
          "text": [
            "Monte-Carlo method\n",
            "Memory usage: 248 bytes\n",
            "Time usage:   3.18 sec\n"
          ]
        },
        {
          "output_type": "execute_result",
          "data": {
            "text/plain": [
              "{0: 0.000645, 1: 0.307705, 2: 0.69165}"
            ]
          },
          "metadata": {},
          "execution_count": 17
        }
      ]
    },
    {
      "cell_type": "markdown",
      "metadata": {
        "id": "EThSrhrxQG0Q"
      },
      "source": [
        "## Tree method"
      ]
    },
    {
      "cell_type": "code",
      "metadata": {
        "id": "wTEStEDeQNe-"
      },
      "source": [
        "class Node:\n",
        "    def __init__(self, score, prob, i):\n",
        "        self.score = score\n",
        "        self.prob = prob\n",
        "        self.i = i\n",
        "        self.left = None\n",
        "        self.right = None\n",
        "    \n",
        "    def end_of_game(self):\n",
        "        return abs(self.score[0]-self.score[1])>=2\n",
        "    \n",
        "    def next_step(self, p):\n",
        "        self.left = Node((self.score[0]+1, self.score[1]), self.prob*p, self.i+1)\n",
        "        self.right= Node((self.score[0], self.score[1]+1), self.prob*(1-p), self.i+1)\n",
        "\n",
        "    def get_winner(self):\n",
        "        if (self.score[0]-self.score[1])>=2:\n",
        "            return 1\n",
        "        elif (self.score[1]-self.score[0])>=2:\n",
        "            return 2\n",
        "        else:\n",
        "            return 0\n",
        "\n",
        "class Tree:\n",
        "    def __init__(self, p):\n",
        "        self.root = Node((10, 10), 1, 20)\n",
        "        self.p = p\n",
        "        self.dict_scores = dict()\n",
        "        self.memory_usage = 0\n",
        "\n",
        "    def build(self, root):\n",
        "        if root:\n",
        "            if root.end_of_game() or root.i>=40:\n",
        "                try:\n",
        "                    self.dict_scores[root.get_winner()] += root.prob\n",
        "                except:\n",
        "                    self.dict_scores[root.get_winner()] = root.prob\n",
        "            else:\n",
        "                root.next_step(self.p)\n",
        "            self.memory_usage += sys.getsizeof(root)\n",
        "            self.build(root.left)\n",
        "            self.build(root.right)\n",
        "\n",
        "    def get_scores(self):\n",
        "        return self.dict_scores\n",
        "    \n",
        "    def get_memory_usage(self):\n",
        "        return self.memory_usage\n",
        "\n",
        "def tree(p, memory=False):\n",
        "    start = time.time()\n",
        "    tree = Tree(p)\n",
        "    tree.build(tree.root)\n",
        "    return tree.memory_usage, time.time()-start, tree.get_scores()"
      ],
      "execution_count": 18,
      "outputs": []
    },
    {
      "cell_type": "code",
      "metadata": {
        "colab": {
          "base_uri": "https://localhost:8080/"
        },
        "id": "mUje2U6eQN1D",
        "outputId": "13c9b849-6a4e-4dac-9443-dad560b47fb2"
      },
      "source": [
        "memory, seconds, probs = tree(p)\n",
        "print(\"Tree method\")\n",
        "print(f\"Memory usage: {memory} bytes\")\n",
        "print(f\"Time usage:   {seconds:.2f} sec\")\n",
        "probs"
      ],
      "execution_count": 19,
      "outputs": [
        {
          "output_type": "stream",
          "name": "stdout",
          "text": [
            "Tree method\n",
            "Memory usage: 392896 bytes\n",
            "Time usage:   0.02 sec\n"
          ]
        },
        {
          "output_type": "execute_result",
          "data": {
            "text/plain": [
              "{1: 0.3074925382704332, 0: 0.0006492506210854508, 2: 0.6918582111084819}"
            ]
          },
          "metadata": {},
          "execution_count": 19
        }
      ]
    },
    {
      "cell_type": "markdown",
      "metadata": {
        "id": "9zigPjRkSZOh"
      },
      "source": [
        "## Markov process"
      ]
    },
    {
      "cell_type": "markdown",
      "metadata": {
        "id": "DxmxsLYsE9Lq"
      },
      "source": [
        "Якщо визначати всі можливі стани - то їх буде нескінченна кількість.\n",
        "\n",
        "Кожного циклу (4 подачі) всі стани повторюються.\\\n",
        "Всього маємо 6 нефінальних станів та 2 фінальних (термінальних) стани."
      ]
    },
    {
      "cell_type": "code",
      "metadata": {
        "id": "gi5eksedSawk"
      },
      "source": [
        "score_to_pos = {(0, 0): 0,\n",
        "                (0, 1): 1,\n",
        "                (1, 0): 2,\n",
        "                (1, 1): 3,\n",
        "                (1, 2): 4,\n",
        "                (2, 1): 5,\n",
        "                (2, 0): 6,\n",
        "                (0, 2): 7}\n",
        "\n",
        "pos_to_score = dict(zip(score_to_pos.values(), score_to_pos.keys()))\n",
        "\n",
        "def get_score(score):\n",
        "    if sum(score)>=4:\n",
        "        return (score[0]-min(score), score[1]-min(score))\n",
        "    else:\n",
        "        return score\n",
        "\n",
        "def end_of_game(score):\n",
        "    return abs(score[0]-score[1])>=2\n",
        "\n",
        "def get_transition_matrix(p):\n",
        "    transition_matrix = np.zeros((8, 8))\n",
        "    for i in range(6):\n",
        "        score = pos_to_score[i]\n",
        "\n",
        "        new_score = (score[0]+1, score[1])\n",
        "        j = score_to_pos[get_score(new_score)]\n",
        "        transition_matrix[i, j] = p\n",
        "\n",
        "        new_score = (score[0], score[1]+1)\n",
        "        j = score_to_pos[get_score(new_score)]\n",
        "        transition_matrix[i, j] = 1-p\n",
        "            \n",
        "    transition_matrix[6, 6] = 1\n",
        "    transition_matrix[7, 7] = 1\n",
        "    return transition_matrix\n",
        "\n",
        "def markov_process(p):\n",
        "    start = time.time()\n",
        "    transition_matrix = get_transition_matrix(p)\n",
        "    init_states = np.zeros((1, 8))\n",
        "    init_states[0, 0] = 1\n",
        "    prob_matrix = np.dot(init_states, np.linalg.matrix_power(transition_matrix, 20))\n",
        "    return (sys.getsizeof(transition_matrix)+sys.getsizeof(init_states)+sys.getsizeof(prob_matrix),\n",
        "            time.time()-start,\n",
        "            dict(zip([0, 1, 2], [1-prob_matrix[0, 6]-prob_matrix[0, 7], prob_matrix[0, 6], prob_matrix[0, 7]])))"
      ],
      "execution_count": 20,
      "outputs": []
    },
    {
      "cell_type": "code",
      "metadata": {
        "colab": {
          "base_uri": "https://localhost:8080/"
        },
        "id": "vRAo4bvMWSY5",
        "outputId": "4d59e3c1-d78a-4b0e-da6a-a1b9a30f0afb"
      },
      "source": [
        "memory, seconds, probs = markov_process(p)\n",
        "print(\"Tree method\")\n",
        "print(f\"Memory usage: {memory} bytes\")\n",
        "print(f\"Time usage:   {seconds:.2f} sec\")\n",
        "probs"
      ],
      "execution_count": 21,
      "outputs": [
        {
          "output_type": "stream",
          "name": "stdout",
          "text": [
            "Tree method\n",
            "Memory usage: 1000 bytes\n",
            "Time usage:   0.00 sec\n"
          ]
        },
        {
          "output_type": "execute_result",
          "data": {
            "text/plain": [
              "{0: 0.000649250621085451, 1: 0.3074925382704353, 2: 0.6918582111084792}"
            ]
          },
          "metadata": {},
          "execution_count": 21
        }
      ]
    },
    {
      "cell_type": "markdown",
      "metadata": {
        "id": "N1bBG-8fb7oV"
      },
      "source": [
        "## Comparison"
      ]
    },
    {
      "cell_type": "code",
      "metadata": {
        "id": "VdhsOYdVcMwQ"
      },
      "source": [
        "def relative_error(true, est):\n",
        "    return np.array([abs(true[key]-est[key])/true[key] for key in true.keys()]).mean()"
      ],
      "execution_count": 22,
      "outputs": []
    },
    {
      "cell_type": "code",
      "metadata": {
        "colab": {
          "base_uri": "https://localhost:8080/"
        },
        "id": "-dCfztfB-pv7",
        "outputId": "8df71b21-a65f-4941-8e20-9cba8b526982"
      },
      "source": [
        "print(f\"Tree vs. Markov process: {relative_error(tree(p)[2], markov_process(p)[2])}\")"
      ],
      "execution_count": 23,
      "outputs": [
        {
          "output_type": "stream",
          "name": "stdout",
          "text": [
            "Tree vs. Markov process: 3.6261158471688845e-15\n"
          ]
        }
      ]
    },
    {
      "cell_type": "code",
      "metadata": {
        "colab": {
          "base_uri": "https://localhost:8080/"
        },
        "id": "DLC0dlwTb9gj",
        "outputId": "ebf267a7-fddb-4604-b9dd-b825f41e008a"
      },
      "source": [
        "for n in [100000, 1000000, 10000000]:\n",
        "    print(f\"Tree vs. Monte-Carlo(n_simulations={n}): {relative_error(tree(p)[2], monte_carlo(p, n)[2]):.4f}\")"
      ],
      "execution_count": 24,
      "outputs": [
        {
          "output_type": "stream",
          "name": "stdout",
          "text": [
            "Tree vs. Monte-Carlo(n_simulations=100000): 0.1103\n",
            "Tree vs. Monte-Carlo(n_simulations=1000000): 0.0203\n",
            "Tree vs. Monte-Carlo(n_simulations=10000000): 0.0021\n"
          ]
        }
      ]
    },
    {
      "cell_type": "code",
      "metadata": {
        "id": "e0PapQJscQDz"
      },
      "source": [
        "mc_results = []\n",
        "tr_results = []\n",
        "mp_results = []\n",
        "for p in np.arange(0.1, 1, 0.1):\n",
        "    mc = monte_carlo(p)\n",
        "    tr = tree(p)\n",
        "    mp = markov_process(p)\n",
        "    mc_results.append((relative_error(tr[2], mc[2]), mc[0], mc[1]))\n",
        "    tr_results.append((relative_error(tr[2], mp[2]), tr[0], tr[1]))\n",
        "    mp_results.append((relative_error(tr[2], mp[2]), mp[0], mp[1]))"
      ],
      "execution_count": 25,
      "outputs": []
    },
    {
      "cell_type": "code",
      "metadata": {
        "colab": {
          "base_uri": "https://localhost:8080/",
          "height": 143
        },
        "id": "FRnb27EOceKU",
        "outputId": "9d7484a6-edae-4e65-c230-920262b64252"
      },
      "source": [
        "pd.options.display.float_format = '{:.3f}'.format\n",
        "comparison_table = pd.DataFrame(columns=['Relative error', 'Memory (bytes)', 'Time (sec)'])\n",
        "comparison_table.loc['Monte-Carlo'] = np.array([np.mean(np.array(i)) for i in zip(mc_results[0])])\n",
        "comparison_table.loc['Tree'] = np.array([np.mean(np.array(i)) for i in zip(tr_results[0])])\n",
        "comparison_table.loc['Markov process'] = np.array([np.mean(np.array(i)) for i in zip(mp_results[0])])\n",
        "comparison_table"
      ],
      "execution_count": 26,
      "outputs": [
        {
          "output_type": "execute_result",
          "data": {
            "text/plain": [
              "                Relative error  Memory (bytes)  Time (sec)\n",
              "Monte-Carlo              0.336         248.000       2.594\n",
              "Tree                     0.000      392896.000       0.017\n",
              "Markov process           0.000        1000.000       0.000"
            ],
            "text/html": [
              "\n",
              "  <div id=\"df-60913cfb-953d-4955-a6dc-147cb577deb7\">\n",
              "    <div class=\"colab-df-container\">\n",
              "      <div>\n",
              "<style scoped>\n",
              "    .dataframe tbody tr th:only-of-type {\n",
              "        vertical-align: middle;\n",
              "    }\n",
              "\n",
              "    .dataframe tbody tr th {\n",
              "        vertical-align: top;\n",
              "    }\n",
              "\n",
              "    .dataframe thead th {\n",
              "        text-align: right;\n",
              "    }\n",
              "</style>\n",
              "<table border=\"1\" class=\"dataframe\">\n",
              "  <thead>\n",
              "    <tr style=\"text-align: right;\">\n",
              "      <th></th>\n",
              "      <th>Relative error</th>\n",
              "      <th>Memory (bytes)</th>\n",
              "      <th>Time (sec)</th>\n",
              "    </tr>\n",
              "  </thead>\n",
              "  <tbody>\n",
              "    <tr>\n",
              "      <th>Monte-Carlo</th>\n",
              "      <td>0.336</td>\n",
              "      <td>248.000</td>\n",
              "      <td>2.594</td>\n",
              "    </tr>\n",
              "    <tr>\n",
              "      <th>Tree</th>\n",
              "      <td>0.000</td>\n",
              "      <td>392896.000</td>\n",
              "      <td>0.017</td>\n",
              "    </tr>\n",
              "    <tr>\n",
              "      <th>Markov process</th>\n",
              "      <td>0.000</td>\n",
              "      <td>1000.000</td>\n",
              "      <td>0.000</td>\n",
              "    </tr>\n",
              "  </tbody>\n",
              "</table>\n",
              "</div>\n",
              "      <button class=\"colab-df-convert\" onclick=\"convertToInteractive('df-60913cfb-953d-4955-a6dc-147cb577deb7')\"\n",
              "              title=\"Convert this dataframe to an interactive table.\"\n",
              "              style=\"display:none;\">\n",
              "        \n",
              "  <svg xmlns=\"http://www.w3.org/2000/svg\" height=\"24px\"viewBox=\"0 0 24 24\"\n",
              "       width=\"24px\">\n",
              "    <path d=\"M0 0h24v24H0V0z\" fill=\"none\"/>\n",
              "    <path d=\"M18.56 5.44l.94 2.06.94-2.06 2.06-.94-2.06-.94-.94-2.06-.94 2.06-2.06.94zm-11 1L8.5 8.5l.94-2.06 2.06-.94-2.06-.94L8.5 2.5l-.94 2.06-2.06.94zm10 10l.94 2.06.94-2.06 2.06-.94-2.06-.94-.94-2.06-.94 2.06-2.06.94z\"/><path d=\"M17.41 7.96l-1.37-1.37c-.4-.4-.92-.59-1.43-.59-.52 0-1.04.2-1.43.59L10.3 9.45l-7.72 7.72c-.78.78-.78 2.05 0 2.83L4 21.41c.39.39.9.59 1.41.59.51 0 1.02-.2 1.41-.59l7.78-7.78 2.81-2.81c.8-.78.8-2.07 0-2.86zM5.41 20L4 18.59l7.72-7.72 1.47 1.35L5.41 20z\"/>\n",
              "  </svg>\n",
              "      </button>\n",
              "      \n",
              "  <style>\n",
              "    .colab-df-container {\n",
              "      display:flex;\n",
              "      flex-wrap:wrap;\n",
              "      gap: 12px;\n",
              "    }\n",
              "\n",
              "    .colab-df-convert {\n",
              "      background-color: #E8F0FE;\n",
              "      border: none;\n",
              "      border-radius: 50%;\n",
              "      cursor: pointer;\n",
              "      display: none;\n",
              "      fill: #1967D2;\n",
              "      height: 32px;\n",
              "      padding: 0 0 0 0;\n",
              "      width: 32px;\n",
              "    }\n",
              "\n",
              "    .colab-df-convert:hover {\n",
              "      background-color: #E2EBFA;\n",
              "      box-shadow: 0px 1px 2px rgba(60, 64, 67, 0.3), 0px 1px 3px 1px rgba(60, 64, 67, 0.15);\n",
              "      fill: #174EA6;\n",
              "    }\n",
              "\n",
              "    [theme=dark] .colab-df-convert {\n",
              "      background-color: #3B4455;\n",
              "      fill: #D2E3FC;\n",
              "    }\n",
              "\n",
              "    [theme=dark] .colab-df-convert:hover {\n",
              "      background-color: #434B5C;\n",
              "      box-shadow: 0px 1px 3px 1px rgba(0, 0, 0, 0.15);\n",
              "      filter: drop-shadow(0px 1px 2px rgba(0, 0, 0, 0.3));\n",
              "      fill: #FFFFFF;\n",
              "    }\n",
              "  </style>\n",
              "\n",
              "      <script>\n",
              "        const buttonEl =\n",
              "          document.querySelector('#df-60913cfb-953d-4955-a6dc-147cb577deb7 button.colab-df-convert');\n",
              "        buttonEl.style.display =\n",
              "          google.colab.kernel.accessAllowed ? 'block' : 'none';\n",
              "\n",
              "        async function convertToInteractive(key) {\n",
              "          const element = document.querySelector('#df-60913cfb-953d-4955-a6dc-147cb577deb7');\n",
              "          const dataTable =\n",
              "            await google.colab.kernel.invokeFunction('convertToInteractive',\n",
              "                                                     [key], {});\n",
              "          if (!dataTable) return;\n",
              "\n",
              "          const docLinkHtml = 'Like what you see? Visit the ' +\n",
              "            '<a target=\"_blank\" href=https://colab.research.google.com/notebooks/data_table.ipynb>data table notebook</a>'\n",
              "            + ' to learn more about interactive tables.';\n",
              "          element.innerHTML = '';\n",
              "          dataTable['output_type'] = 'display_data';\n",
              "          await google.colab.output.renderOutput(dataTable, element);\n",
              "          const docLink = document.createElement('div');\n",
              "          docLink.innerHTML = docLinkHtml;\n",
              "          element.appendChild(docLink);\n",
              "        }\n",
              "      </script>\n",
              "    </div>\n",
              "  </div>\n",
              "  "
            ]
          },
          "metadata": {},
          "execution_count": 26
        }
      ]
    },
    {
      "cell_type": "markdown",
      "metadata": {
        "id": "izudmZGfFpJv"
      },
      "source": [
        "# Task 3 (порівняння методів)"
      ]
    },
    {
      "cell_type": "markdown",
      "metadata": {
        "id": "5b0S5AqOFs0C"
      },
      "source": [
        "Метод Монте-Карло:\n",
        "- плюси: легкий в реалізації, потребує мало пам'яті (тільки для збереження результатів)\n",
        "- мінуси: невисока точність (а щоб підвищити точність, треба збільшувати кількість симуляцій -> різке збільшення часу роботи алгоритму)\n",
        "\n",
        "Метод побудови дерева:\n",
        "- плюси: точні результати, значно швидший порівняно з методом Монте-Карло, збереження порядку виграшів подач\n",
        "- мінуси: потрібно багато пам'яті (вузол для кожного проміжного результату)\n",
        "\n",
        "Метод марківського процесу:\n",
        "- плюси: точні результати, висока швидкість (тільки перемноження матриць)\n",
        "- мінуси: треба спочатку добре продумати множину станів та побудову матриці переходів\n",
        "\n",
        "Для обох завдань найкращим є метод з використанням марківського процесу."
      ]
    },
    {
      "cell_type": "markdown",
      "metadata": {
        "id": "UAiUAUidHWDt"
      },
      "source": [
        "# Task 4"
      ]
    },
    {
      "cell_type": "markdown",
      "metadata": {
        "id": "LkPNETVCHYeo"
      },
      "source": [
        "Головною особливістю всього тестового завдання є те, що ми знаємо ймовірності виграшу для кожного гравця.\\\n",
        "У реальному житті пошук цих ймовірностей теж може бути окремою складною задачею.\n",
        "\n",
        "Перевага в економіці в кожному раунді певної команди безпосередньо може впливати на ймовірність виграшу - тобто ймовірності змінюватимуться кожного раунду.\n",
        "\n",
        "Всі 3 методи можна застосувати в постановці задачі.\n",
        "- Для методу побудови дерева - нічого складного:\n",
        "на кожному раунді вираховується нова ймовірність виграшу кожної команди.\n",
        "- Для марківського процесу - є особливості. Порівняно з деревом, ми не зберігаємо порядок виграшу раундів, а тільки поточний результат. В цій же грі знати послідовність може бути інформативним. Задати через стани історію попередніх раундів - виходить надбагато станів (у дереві для першої задачі їх було понад мільйон - 1 041 351 вузлів).\n",
        "- Для методу Монте-Карло - та ж особливість. Не зберігається історія попередніх раундів. Але це легко реалізувати - зберігати хоча б послідовність взяття раундів для поточної карти."
      ]
    }
  ]
}